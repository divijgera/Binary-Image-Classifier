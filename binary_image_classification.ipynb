{
 "cells": [
  {
   "cell_type": "code",
   "execution_count": 4,
   "metadata": {},
   "outputs": [],
   "source": [
    "import numpy as np\n",
    "import matplotlib.pyplot as plt\n",
    "import sklearn\n",
    "import math\n",
    "import time\n",
    "import random\n",
    "import pandas as pd\n",
    "from sklearn import model_selection\n",
    "from sklearn.linear_model import LogisticRegression\n",
    "from sklearn import datasets\n",
    "from sklearn import preprocessing\n",
    "import copy\n",
    "import h5py\n",
    "import scipy\n",
    "from PIL import Image\n",
    "from scipy import ndimage"
   ]
  },
  {
   "cell_type": "markdown",
   "metadata": {},
   "source": [
    "## Loading Dataset from a h5py file"
   ]
  },
  {
   "cell_type": "code",
   "execution_count": 70,
   "metadata": {},
   "outputs": [],
   "source": [
    "def load_dataset():\n",
    "    train_dataset = h5py.File('datasets/train_catvnoncat.h5', \"r\")\n",
    "    train_set_x_orig = np.array(train_dataset[\"train_set_x\"][:]) # train set features\n",
    "    train_set_y_orig = np.array(train_dataset[\"train_set_y\"][:]) # train set labels\n",
    "\n",
    "    test_dataset = h5py.File('datasets/test_catvnoncat.h5', \"r\")\n",
    "    test_set_x_orig = np.array(test_dataset[\"test_set_x\"][:]) # your test set features\n",
    "    test_set_y_orig = np.array(test_dataset[\"test_set_y\"][:]) # your test set labels\n",
    "\n",
    "    classes = np.array(test_dataset[\"list_classes\"][:]) # the list of classes\n",
    "    \n",
    "    train_set_y_orig = train_set_y_orig.reshape((1, train_set_y_orig.shape[0]))\n",
    "    test_set_y_orig = test_set_y_orig.reshape((1, test_set_y_orig.shape[0]))\n",
    "    \n",
    "    return train_set_x_orig, train_set_y_orig, test_set_x_orig, test_set_y_orig, classes"
   ]
  },
  {
   "cell_type": "code",
   "execution_count": 71,
   "metadata": {},
   "outputs": [],
   "source": [
    "train_set_x_orig, train_set_y, test_set_x_orig, test_set_y, classes = load_dataset()"
   ]
  },
  {
   "cell_type": "code",
   "execution_count": 72,
   "metadata": {},
   "outputs": [
    {
     "name": "stdout",
     "output_type": "stream",
     "text": [
      "y = [1], it's a 'cat' picture.\n"
     ]
    },
    {
     "data": {
      "image/png": "[encoded data removed]",
      "text/plain": [
       "<Figure size 432x288 with 1 Axes>"
      ]
     },
     "metadata": {
      "needs_background": "light"
     },
     "output_type": "display_data"
    }
   ],
   "source": [
    "# Example of a picture\n",
    "index = 25\n",
    "plt.imshow(train_set_x_orig[index])\n",
    "print (\"y = \" + str(train_set_y[:, index]) + \", it's a '\" + classes[np.squeeze(train_set_y[:, index])].decode(\"utf-8\") +  \"' picture.\")"
   ]
  },
  {
   "cell_type": "code",
   "execution_count": 73,
   "metadata": {},
   "outputs": [
    {
     "name": "stdout",
     "output_type": "stream",
     "text": [
      "Number of training datapoints 209\n",
      "Number of testing datapoints 50\n",
      "Dimensions of image (64, 64, 3)\n"
     ]
    }
   ],
   "source": [
    "m_train = train_set_y.shape[1]\n",
    "m_test = test_set_y.shape[1]\n",
    "dims = train_set_x_orig.shape[1:]\n",
    "print(\"Number of training datapoints\",m_train)\n",
    "print(\"Number of testing datapoints\", m_test)\n",
    "print(\"Dimensions of image\", dims)"
   ]
  },
  {
   "cell_type": "code",
   "execution_count": 74,
   "metadata": {},
   "outputs": [],
   "source": [
    "train_set_flatten = train_set_x_orig.reshape(m_train,-1).T\n",
    "test_set_flatten = test_set_x_orig.reshape(m_test,-1).T"
   ]
  },
  {
   "cell_type": "code",
   "execution_count": 75,
   "metadata": {},
   "outputs": [
    {
     "name": "stdout",
     "output_type": "stream",
     "text": [
      "Train dataset shape: (12288, 209)\n",
      "Test dataset shape: (12288, 50)\n"
     ]
    }
   ],
   "source": [
    "print(\"Train dataset shape:\",train_set_flatten.shape)\n",
    "print(\"Test dataset shape:\",test_set_flatten.shape)"
   ]
  },
  {
   "cell_type": "code",
   "execution_count": 76,
   "metadata": {},
   "outputs": [],
   "source": [
    "train_set_x = train_set_flatten/255\n",
    "test_set_x = test_set_flatten/255"
   ]
  },
  {
   "cell_type": "markdown",
   "metadata": {},
   "source": [
    "## Logistic Regression"
   ]
  },
  {
   "cell_type": "code",
   "execution_count": 27,
   "metadata": {},
   "outputs": [],
   "source": [
    "def sigmoid(z):\n",
    "    return 1/(1+np.exp(-z))\n",
    "\n",
    "def initialize_with_zeros(dims):\n",
    "    w = np.zeros((dims,1))\n",
    "    b = 0.0\n",
    "    return w,b\n",
    "\n",
    "def propagate(w,b,X,Y):\n",
    "    m = X.shape[1]\n",
    "    Z = np.dot(w.T,X)+b\n",
    "    A = sigmoid(Z)\n",
    "    cost = -(np.sum(np.multiply(Y,np.log(A))+np.multiply(1-Y,np.log(1-A))))/m\n",
    "    dZ = A-Y\n",
    "    dw = (np.dot(X,dZ.T))/m\n",
    "    db = np.sum(dZ)/m\n",
    "    cost = np.squeeze(np.array(cost))\n",
    "    return cost,dw,db\n",
    "\n",
    "def gradient_descent(w,b,X,Y,num_iterations=1000,learning_rate=0.01):\n",
    "    w, b = copy.deepcopy(w), copy.deepcopy(b)\n",
    "    costs = []\n",
    "    for i in range(1,num_iterations+1):\n",
    "        cost,dw,db = propagate(w,b,X,Y)\n",
    "        costs.append(cost)\n",
    "        w = w-learning_rate*dw\n",
    "        b = b-learning_rate*db\n",
    "        if (i%100 == 0):\n",
    "            print(\"Cost of\",i,\"th iteration is\", cost)\n",
    "            \n",
    "    params = {\"w\":w,\"b\":b}\n",
    "    grads = {\"dw\":dw,\"db\":db}\n",
    "    return params,grads,costs\n",
    "\n",
    "def predict(w,b,X):\n",
    "    m = X.shape[1]\n",
    "    y_pred = np.zeros((1, m))\n",
    "    w = w.reshape(X.shape[0], 1)\n",
    "    Z = np.dot(w.T,X)+b\n",
    "    A = sigmoid(Z)\n",
    "    for i in range(A.shape[1]):\n",
    "        if(A[0][i]>0.5):\n",
    "            y_pred[0][i] = 1\n",
    "        else:\n",
    "            y_pred[0][i] = 0\n",
    "    return y_pred"
   ]
  },
  {
   "cell_type": "code",
   "execution_count": 32,
   "metadata": {},
   "outputs": [],
   "source": [
    "def LogisticRegressionModel(X_train,Y_train,X_test,Y_test,num_iterations=1000,learning_rate=0.01):\n",
    "    nx = X_train.shape[0]\n",
    "    m = X_train.shape[1]\n",
    "    w,b = initialize_with_zeros(nx)\n",
    "    params,grads,costs = gradient_descent(w,b,X_train,Y_train,num_iterations,learning_rate)\n",
    "    w,b = params[\"w\"], params[\"b\"]\n",
    "    Y_prediction_test = predict(w,b,X_test)\n",
    "    Y_prediction_train = predict(w,b,X_train)\n",
    "    \n",
    "    print(\"train accuracy: {} %\".format(100 - np.mean(np.abs(Y_prediction_train - Y_train)) * 100))\n",
    "    print(\"test accuracy: {} %\".format(100 - np.mean(np.abs(Y_prediction_test - Y_test)) * 100))\n",
    "    \n",
    "    d = {\n",
    "        \"costs\": costs,\n",
    "         \"Y_prediction_test\": Y_prediction_test, \n",
    "         \"Y_prediction_train\" : Y_prediction_train, \n",
    "         \"w\" : w, \n",
    "         \"b\" : b,\n",
    "         \"learning_rate\" : learning_rate,\n",
    "         \"num_iterations\": num_iterations\n",
    "    }\n",
    "    \n",
    "    return d"
   ]
  },
  {
   "cell_type": "code",
   "execution_count": 33,
   "metadata": {},
   "outputs": [
    {
     "name": "stdout",
     "output_type": "stream",
     "text": [
      "Cost of 100 th iteration is 0.6448978829531701\n",
      "Cost of 200 th iteration is 0.4848936141484849\n",
      "Cost of 300 th iteration is 0.37776149521638075\n",
      "Cost of 400 th iteration is 0.33177540555235874\n",
      "Cost of 500 th iteration is 0.3035286720260554\n",
      "Cost of 600 th iteration is 0.28009427757967503\n",
      "Cost of 700 th iteration is 0.2602258475628189\n",
      "Cost of 800 th iteration is 0.24310018399838854\n",
      "Cost of 900 th iteration is 0.22814432769465365\n",
      "Cost of 1000 th iteration is 0.21494377069682477\n",
      "Cost of 1100 th iteration is 0.2031892821910463\n",
      "Cost of 1200 th iteration is 0.19264428020365887\n",
      "Cost of 1300 th iteration is 0.18312389153132902\n",
      "Cost of 1400 th iteration is 0.17448101386887013\n",
      "Cost of 1500 th iteration is 0.1665967535404291\n",
      "Cost of 1600 th iteration is 0.1593736950985854\n",
      "Cost of 1700 th iteration is 0.15273105849939206\n",
      "Cost of 1800 th iteration is 0.14660114629898885\n",
      "Cost of 1900 th iteration is 0.1409266916696517\n",
      "Cost of 2000 th iteration is 0.13565884743936965\n",
      "train accuracy: 99.04306220095694 %\n",
      "test accuracy: 70.0 %\n"
     ]
    }
   ],
   "source": [
    "logistic_regression_model = LogisticRegressionModel(train_set_x, train_set_y, test_set_x, test_set_y,2000,0.005)"
   ]
  },
  {
   "cell_type": "code",
   "execution_count": 34,
   "metadata": {},
   "outputs": [
    {
     "data": {
      "image/png": "[encoded data removed]",
      "text/plain": [
       "<Figure size 432x288 with 1 Axes>"
      ]
     },
     "metadata": {
      "needs_background": "light"
     },
     "output_type": "display_data"
    }
   ],
   "source": [
    "costs = np.squeeze(logistic_regression_model['costs'])\n",
    "plt.plot(costs)\n",
    "plt.ylabel('Cost')\n",
    "plt.xlabel('Iterations')\n",
    "plt.title(\"Learning rate =\" + str(logistic_regression_model[\"learning_rate\"]))\n",
    "plt.show()"
   ]
  },
  {
   "cell_type": "code",
   "execution_count": 38,
   "metadata": {},
   "outputs": [
    {
     "name": "stdout",
     "output_type": "stream",
     "text": [
      "Training a model with learning rate: 0.01\n",
      "Cost of 100 th iteration is 0.47934088102084715\n",
      "Cost of 200 th iteration is 1.817220457958484\n",
      "Cost of 300 th iteration is 1.0436850671148918\n",
      "Cost of 400 th iteration is 0.7209062351541603\n",
      "Cost of 500 th iteration is 0.4600137295026736\n",
      "Cost of 600 th iteration is 0.24805515508482973\n",
      "Cost of 700 th iteration is 0.15473347073292207\n",
      "Cost of 800 th iteration is 0.1354464101311009\n",
      "Cost of 900 th iteration is 0.12506418404852576\n",
      "Cost of 1000 th iteration is 0.11655660496927349\n",
      "Cost of 1100 th iteration is 0.10926054674330338\n",
      "Cost of 1200 th iteration is 0.10286456752910302\n",
      "Cost of 1300 th iteration is 0.09718346949629092\n",
      "Cost of 1400 th iteration is 0.09209154665278337\n",
      "Cost of 1500 th iteration is 0.08749622157295256\n",
      "train accuracy: 99.52153110047847 %\n",
      "test accuracy: 68.0 %\n",
      "\n",
      "-------------------------------------------------------\n",
      "\n",
      "Training a model with learning rate: 0.001\n",
      "Cost of 100 th iteration is 0.5917187287531944\n",
      "Cost of 200 th iteration is 0.5560977614434558\n",
      "Cost of 300 th iteration is 0.5292175632658515\n",
      "Cost of 400 th iteration is 0.507085064115501\n",
      "Cost of 500 th iteration is 0.4880577628705439\n",
      "Cost of 600 th iteration is 0.4712668485629524\n",
      "Cost of 700 th iteration is 0.4561892000526094\n",
      "Cost of 800 th iteration is 0.4424812669238367\n",
      "Cost of 900 th iteration is 0.4299024407791466\n",
      "Cost of 1000 th iteration is 0.4182757640728539\n",
      "Cost of 1100 th iteration is 0.40746609977335635\n",
      "Cost of 1200 th iteration is 0.39736717254724824\n",
      "Cost of 1300 th iteration is 0.38789343562266704\n",
      "Cost of 1400 th iteration is 0.3789747207835618\n",
      "Cost of 1500 th iteration is 0.3705525770769722\n",
      "train accuracy: 88.99521531100478 %\n",
      "test accuracy: 64.0 %\n",
      "\n",
      "-------------------------------------------------------\n",
      "\n",
      "Training a model with learning rate: 0.0001\n",
      "Cost of 100 th iteration is 0.6437607411753926\n",
      "Cost of 200 th iteration is 0.6358124737478058\n",
      "Cost of 300 th iteration is 0.6286403591205886\n",
      "Cost of 400 th iteration is 0.6221020784717006\n",
      "Cost of 500 th iteration is 0.6160871948898028\n",
      "Cost of 600 th iteration is 0.6105089061521645\n",
      "Cost of 700 th iteration is 0.6052986118363008\n",
      "Cost of 800 th iteration is 0.6004017335287358\n",
      "Cost of 900 th iteration is 0.5957745203486479\n",
      "Cost of 1000 th iteration is 0.5913816144104223\n",
      "Cost of 1100 th iteration is 0.5871941958077324\n",
      "Cost of 1200 th iteration is 0.5831885668315206\n",
      "Cost of 1300 th iteration is 0.5793450682116053\n",
      "Cost of 1400 th iteration is 0.5756472462714914\n",
      "Cost of 1500 th iteration is 0.5720812099616257\n",
      "train accuracy: 68.42105263157895 %\n",
      "test accuracy: 36.0 %\n",
      "\n",
      "-------------------------------------------------------\n",
      "\n"
     ]
    },
    {
     "data": {
      "image/png": "[encoded data removed]",
      "text/plain": [
       "<Figure size 432x288 with 1 Axes>"
      ]
     },
     "metadata": {
      "needs_background": "light"
     },
     "output_type": "display_data"
    }
   ],
   "source": [
    "learning_rates = [0.01, 0.001, 0.0001]\n",
    "models = {}\n",
    "\n",
    "for lr in learning_rates:\n",
    "    print (\"Training a model with learning rate: \" + str(lr))\n",
    "    models[str(lr)] = LogisticRegressionModel(train_set_x, train_set_y, test_set_x, test_set_y, num_iterations=1500, learning_rate=lr)\n",
    "    print ('\\n' + \"-------------------------------------------------------\" + '\\n')\n",
    "\n",
    "for lr in learning_rates:\n",
    "    models[str(lr)][\"costs\"] = np.squeeze(models[str(lr)][\"costs\"])\n",
    "    models[str(lr)][\"costs\"] = models[str(lr)][\"costs\"][::100]\n",
    "    plt.plot(models[str(lr)][\"costs\"], label=str(models[str(lr)][\"learning_rate\"]))\n",
    "\n",
    "plt.ylabel('cost')\n",
    "plt.xlabel('iterations (hundred)')\n",
    "\n",
    "legend = plt.legend(loc='upper center', shadow=True)\n",
    "frame = legend.get_frame()\n",
    "frame.set_facecolor('0.90')\n",
    "plt.show()"
   ]
  },
  {
   "cell_type": "markdown",
   "metadata": {},
   "source": [
    "## Deep Neural Network"
   ]
  },
  {
   "cell_type": "markdown",
   "metadata": {},
   "source": [
    "### 1) Forward Propagation "
   ]
  },
  {
   "cell_type": "code",
   "execution_count": 93,
   "metadata": {},
   "outputs": [],
   "source": [
    "def initialize_parameters_deep(layer_dims):\n",
    "    parameters = {}\n",
    "    L = len(layer_dims)\n",
    "    for l in range(1,L):\n",
    "        parameters['W' + str(l)] = np.random.randn(layer_dims[l], layer_dims[l-1]) / np.sqrt(layer_dims[l-1])\n",
    "        parameters[\"b\"+str(l)] = np.zeros((layer_dims[l],1))\n",
    "    return parameters\n",
    "\n",
    "def linear_forward(A_prev,W,b):\n",
    "    Z = np.dot(W,A_prev)+b\n",
    "    cache = (A_prev,W,b)\n",
    "    return Z,cache\n",
    "\n",
    "def sigmoid_L(Z):\n",
    "    A = sigmoid(Z)\n",
    "    cache = (Z)\n",
    "    return A,cache\n",
    "\n",
    "def relu(Z):\n",
    "    A = np.array(Z,copy=True)\n",
    "    A[Z<=0] = 0\n",
    "    return A\n",
    "\n",
    "def relu_L(Z):\n",
    "    A = relu(Z)\n",
    "    cache = (Z)\n",
    "    return A,cache\n",
    "\n",
    "def linear_activation_forward(A_prev, W, b, activation):\n",
    "    Z, linear_cache = linear_forward(A_prev,W,b)\n",
    "    if activation == \"sigmoid\":\n",
    "        A, activation_cache = sigmoid_L(Z)\n",
    "    elif activation == \"relu\":\n",
    "        A, activation_cache = relu_L(Z)\n",
    "    cache = (linear_cache,activation_cache)\n",
    "    return A,cache\n",
    "\n",
    "def L_model_forward(X,parameters):\n",
    "    caches = []\n",
    "    A_prev = X\n",
    "    L = len(parameters)//2\n",
    "    for i in range(1,L):\n",
    "        A,cache = linear_activation_forward(A_prev,parameters[\"W\"+str(i)],parameters[\"b\"+str(i)],\"relu\")\n",
    "        A_prev = A\n",
    "        caches.append(cache)\n",
    "    AL, cache = linear_activation_forward(A_prev,parameters[\"W\"+str(L)],parameters[\"b\"+str(L)],\"sigmoid\")\n",
    "    caches.append(cache)\n",
    "    return AL,caches\n",
    "\n",
    "def compute_cost(AL,Y):\n",
    "    m = Y.shape[1]\n",
    "    cost = -(np.sum(np.multiply(Y,np.log(AL)) + np.multiply(1-Y,np.log(1-AL))))/m\n",
    "    cost = np.squeeze(cost)\n",
    "    return cost"
   ]
  },
  {
   "cell_type": "markdown",
   "metadata": {},
   "source": [
    "### 2) Backward Propagation"
   ]
  },
  {
   "cell_type": "code",
   "execution_count": 91,
   "metadata": {},
   "outputs": [],
   "source": [
    "def linear_backward(dZ, cache):\n",
    "    A_prev, W,b = cache\n",
    "    m = A_prev.shape[1]\n",
    "    dW = np.dot(dZ, A_prev.T)/m\n",
    "    db = np.sum(dZ, axis = 1, keepdims = True)/m\n",
    "    dA_prev = np.dot(W.T, dZ)\n",
    "    return dA_prev, dW, db\n",
    "\n",
    "def relu_backward(dA, cache):\n",
    "    Z = cache\n",
    "    dZ = np.array(dA, copy = True)\n",
    "    dZ[Z <= 0] = 0\n",
    "    return dZ\n",
    "\n",
    "def sigmoid_backward(dA,cache):\n",
    "    Z = cache\n",
    "    s = sigmoid(Z)\n",
    "    dZ = dA*s*(1-s)\n",
    "    return dZ\n",
    "\n",
    "def linear_activation_backward(dA, cache, activation):\n",
    "    linear_cache, activation_cache = cache\n",
    "    if activation == \"relu\":\n",
    "        dZ = relu_backward(dA, activation_cache)\n",
    "        dA_prev, dW,db = linear_backward(dZ,linear_cache)\n",
    "    elif activation == \"sigmoid\":\n",
    "        dZ = sigmoid_backward(dA,activation_cache)\n",
    "        dA_prev, dW, db = linear_backward(dZ,linear_cache)\n",
    "    return dA_prev, dW, db\n",
    "\n",
    "def L_model_backward(AL, Y, caches):\n",
    "    grads = {}\n",
    "    L = len(caches)\n",
    "    m = AL.shape[1]\n",
    "    Y = Y.reshape(AL.shape)\n",
    "    \n",
    "    dAL = -(np.divide(Y, AL) - np.divide(1 - Y, 1 - AL))\n",
    "    current_cache = caches[-1]\n",
    "    dA_prev, dW, db = linear_activation_backward(dAL,current_cache,\"sigmoid\")\n",
    "    grads[\"dW\"+str(L)] = dW\n",
    "    grads[\"db\"+str(L)] = db\n",
    "    \n",
    "    for i in range(L-1,0,-1):\n",
    "        current_cache = caches[i-1]\n",
    "        dA_prev, dW, db = linear_activation_backward(dA_prev,current_cache,\"relu\")\n",
    "        grads[\"dW\"+str(i)] = dW\n",
    "        grads[\"db\"+str(i)] = db\n",
    "        \n",
    "    return grads"
   ]
  },
  {
   "cell_type": "markdown",
   "metadata": {},
   "source": [
    "### 3) Parameter Updation"
   ]
  },
  {
   "cell_type": "code",
   "execution_count": 81,
   "metadata": {},
   "outputs": [],
   "source": [
    "def update_parameters(params,grads,learning_rate):\n",
    "    parameters = params.copy()\n",
    "    L = len(parameters)//2\n",
    "    for l in range(L):\n",
    "        parameters[\"W\" + str(l+1)] = parameters[\"W\" + str(l+1)] - learning_rate*grads[\"dW\"+str(l+1)]\n",
    "        parameters[\"b\" + str(l+1)] = parameters[\"b\" + str(l+1)] - learning_rate*grads[\"db\"+str(l+1)]\n",
    "    return parameters"
   ]
  },
  {
   "cell_type": "code",
   "execution_count": 80,
   "metadata": {},
   "outputs": [],
   "source": [
    "def L_layer_model(X,Y,layers_dims,learning_rate = 0.0075, num_iterations = 3000):\n",
    "    costs = []\n",
    "    parameters = initialize_parameters_deep(layers_dims)\n",
    "    for i in range(0,num_iterations):\n",
    "        AL,caches = L_model_forward(X,parameters)\n",
    "        cost = compute_cost(AL,Y)\n",
    "        grads = L_model_backward(AL,Y,caches)\n",
    "        costs.append(cost)\n",
    "        parameters = update_parameters(parameters,grads,learning_rate)\n",
    "        if (i+1)%100==0:\n",
    "            print(\"Cost of\", i+1,\"th iteration is:\", cost)\n",
    "    return parameters,costs"
   ]
  },
  {
   "cell_type": "code",
   "execution_count": 94,
   "metadata": {},
   "outputs": [
    {
     "name": "stdout",
     "output_type": "stream",
     "text": [
      "Cost of 100 th iteration is: 0.6096268101768387\n",
      "Cost of 200 th iteration is: 0.534116049023467\n",
      "Cost of 300 th iteration is: 0.4812168777796284\n",
      "Cost of 400 th iteration is: 0.4214940547531483\n",
      "Cost of 500 th iteration is: 0.37704827561478976\n",
      "Cost of 600 th iteration is: 0.28330865338194255\n",
      "Cost of 700 th iteration is: 0.24490495946748383\n",
      "Cost of 800 th iteration is: 0.15487358393374362\n",
      "Cost of 900 th iteration is: 0.10634854598672827\n",
      "Cost of 1000 th iteration is: 0.07199060879495706\n",
      "Cost of 1100 th iteration is: 0.044451863712110185\n",
      "Cost of 1200 th iteration is: 0.030228619267116185\n",
      "Cost of 1300 th iteration is: 0.020811513994233435\n",
      "Cost of 1400 th iteration is: 0.015768970048608607\n",
      "Cost of 1500 th iteration is: 0.012486776905929288\n",
      "Cost of 1600 th iteration is: 0.010167411894629398\n",
      "Cost of 1700 th iteration is: 0.008493702297126572\n",
      "Cost of 1800 th iteration is: 0.007235439730982031\n",
      "Cost of 1900 th iteration is: 0.006261079576839564\n",
      "Cost of 2000 th iteration is: 0.005481034133266412\n",
      "Cost of 2100 th iteration is: 0.004850940615870126\n",
      "Cost of 2200 th iteration is: 0.004343760472514544\n",
      "Cost of 2300 th iteration is: 0.003912654006614937\n",
      "Cost of 2400 th iteration is: 0.0035497500210873506\n",
      "Cost of 2500 th iteration is: 0.003242285551848201\n"
     ]
    }
   ],
   "source": [
    "layers_dims = [12288, 20, 7, 5, 1]\n",
    "parameters, costs = L_layer_model(train_set_x, train_set_y, layers_dims, num_iterations = 2500)"
   ]
  },
  {
   "cell_type": "code",
   "execution_count": 97,
   "metadata": {},
   "outputs": [],
   "source": [
    "def predict(X, Y, parameters):\n",
    "    m = X.shape[1]\n",
    "    n = len(parameters) // 2 \n",
    "    p = np.zeros((1,m))\n",
    "    probas, caches = L_model_forward(X, parameters)\n",
    "    for i in range(0, probas.shape[1]):\n",
    "        if probas[0,i] > 0.5:\n",
    "            p[0,i] = 1\n",
    "        else:\n",
    "            p[0,i] = 0\n",
    "    print(\"Accuracy: \"  + str(np.sum((p == Y)/m)))\n",
    "    return p"
   ]
  },
  {
   "cell_type": "code",
   "execution_count": 99,
   "metadata": {},
   "outputs": [
    {
     "name": "stdout",
     "output_type": "stream",
     "text": [
      "Accuracy: 0.78\n"
     ]
    }
   ],
   "source": [
    "Y_pred_test = predict(test_set_x,test_set_y,parameters)"
   ]
  },
  {
   "cell_type": "code",
   "execution_count": 100,
   "metadata": {},
   "outputs": [
    {
     "name": "stdout",
     "output_type": "stream",
     "text": [
      "Accuracy: 0.9999999999999998\n"
     ]
    }
   ],
   "source": [
    "Y_pred_train = predict(train_set_x,train_set_y,parameters)"
   ]
  },
  {
   "cell_type": "code",
   "execution_count": null,
   "metadata": {},
   "outputs": [
    {
     "name": "stdout",
     "output_type": "stream",
     "text": [
      "Cost of 100 th iteration is: 0.5752391201667676\n",
      "Cost of 200 th iteration is: 0.5388588841950153\n",
      "Cost of 300 th iteration is: 0.46684872692515056\n",
      "Cost of 400 th iteration is: 0.36283174550380176\n",
      "Cost of 500 th iteration is: 0.3600258501923886\n",
      "Cost of 600 th iteration is: 0.3883671676748844\n",
      "Cost of 700 th iteration is: 0.49012560152413975\n"
     ]
    }
   ],
   "source": [
    "layers_dims = [12288,20,7,7,5,5,1]\n",
    "parameters, costs = L_layer_model(train_set_x, train_set_y, layers_dims,0.01, num_iterations = 2500)"
   ]
  },
  {
   "cell_type": "code",
   "execution_count": 105,
   "metadata": {},
   "outputs": [
    {
     "name": "stdout",
     "output_type": "stream",
     "text": [
      "Accuracy: 0.3400000000000001\n"
     ]
    }
   ],
   "source": [
    "Y_pred_test = predict(test_set_x,test_set_y,parameters)"
   ]
  },
  {
   "cell_type": "code",
   "execution_count": 106,
   "metadata": {},
   "outputs": [
    {
     "name": "stdout",
     "output_type": "stream",
     "text": [
      "Accuracy: 0.6555023923444976\n"
     ]
    }
   ],
   "source": [
    "Y_pred_train = predict(train_set_x,train_set_y,parameters)"
   ]
  }
 ],
 "metadata": {
  "kernelspec": {
   "display_name": "Python 3",
   "language": "python",
   "name": "python3"
  },
  "language_info": {
   "codemirror_mode": {
    "name": "ipython",
    "version": 3
   },
   "file_extension": ".py",
   "mimetype": "text/x-python",
   "name": "python",
   "nbconvert_exporter": "python",
   "pygments_lexer": "ipython3",
   "version": "3.7.6"
  }
 },
 "nbformat": 4,
 "nbformat_minor": 4
}
